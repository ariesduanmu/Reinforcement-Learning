{
 "cells": [
  {
   "cell_type": "code",
   "execution_count": 135,
   "metadata": {
    "collapsed": true
   },
   "outputs": [],
   "source": [
    "import tensorflow as tf\n",
    "import numpy as np\n",
    "from numpy import random, argmax\n",
    "from tictactoe_train import *"
   ]
  },
  {
   "cell_type": "code",
   "execution_count": 137,
   "metadata": {},
   "outputs": [
    {
     "name": "stdout",
     "output_type": "stream",
     "text": [
      "[array([[-1,  0,  1,  0,  1,  0,  0,  0,  0]]), array([[ 0,  0,  0,  0, -1,  0,  0,  0,  0]])]\n",
      "[array([[ 1,  0, -1,  0, -1,  0,  0,  0,  0]]), array([[ 0,  0,  0,  0, -1,  0,  0,  0,  0]])]\n",
      "[array([[-1,  0,  1,  0,  1,  0,  0,  0,  0]]), array([[ 0,  0,  0,  0, -1,  0,  0,  0,  0]])]\n",
      "[array([[ 1,  0, -1,  0, -1,  0,  0,  0,  0]]), array([[ 0,  0,  0,  0, -1,  0,  0,  0,  0]])]\n",
      "[array([[-1,  0,  1,  0,  1,  0,  0, -1,  0]]), array([[ 0,  0,  0,  0,  0,  0,  0, -1,  0]])]\n",
      "[array([[ 1,  0, -1,  0, -1,  0,  0,  1,  0]]), array([[ 0,  0,  0,  0,  0,  0,  0, -1,  0]])]\n",
      "[array([[-1,  0,  1,  0,  1,  0,  0, -1,  0]]), array([[ 0,  0, -1,  0,  0,  0,  0,  0,  0]])]\n",
      "[array([[ 1,  0, -1,  0, -1,  0,  0,  1,  0]]), array([[ 0,  0, -1,  0,  0,  0,  0,  0,  0]])]\n",
      "[array([[0, 0, 0, 0, 0, 0, 0, 0, 0]]), array([[0, 0, 1, 0, 0, 0, 0, 0, 0]])]\n",
      "[array([[-1,  0,  1,  0,  0,  0,  0,  0,  0]]), array([[0, 0, 0, 0, 1, 0, 0, 0, 0]])]\n",
      "[array([[-1,  0,  1,  0,  1,  0,  0, -1,  0]]), array([[0, 0, 0, 0, 0, 0, 1, 0, 0]])]\n",
      "[array([[0, 0, 1, 0, 0, 0, 0, 0, 0]]), array([[-0.1, -0. , -0. , -0. , -0. , -0. , -0. , -0. , -0. ]])]\n",
      "[array([[-1,  0,  1,  0,  1,  0,  0,  0,  0]]), array([[-0. , -0. , -0. , -0. , -0. , -0. , -0. , -0.1, -0. ]])]\n",
      "[array([[ 0,  0, -1,  0,  1,  0, -1,  0,  1]]), array([[ 0,  0,  0,  0, -1,  0,  0,  0,  0]])]\n",
      "[array([[ 0,  0,  1,  0, -1,  0,  1,  0, -1]]), array([[ 0,  0,  0,  0, -1,  0,  0,  0,  0]])]\n",
      "[array([[ 0,  0, -1,  1,  1, -1, -1,  0,  1]]), array([[ 0,  0,  0,  0,  0,  0,  0,  0, -1]])]\n",
      "[array([[ 0,  0,  1, -1, -1,  1,  1,  0, -1]]), array([[ 0,  0,  0,  0,  0,  0,  0,  0, -1]])]\n",
      "[array([[ 0,  0, -1,  1,  1, -1, -1,  1,  1]]), array([[ 0,  0,  0,  0,  0,  0,  0,  0, -1]])]\n",
      "[array([[ 0,  0,  1, -1, -1,  1,  1, -1, -1]]), array([[ 0,  0,  0,  0,  0,  0,  0,  0, -1]])]\n",
      "[array([[ 0,  0, -1,  1,  1, -1, -1,  1,  1]]), array([[ 0,  0,  0, -1,  0,  0,  0,  0,  0]])]\n",
      "[array([[ 0,  0,  1, -1, -1,  1,  1, -1, -1]]), array([[ 0,  0,  0, -1,  0,  0,  0,  0,  0]])]\n",
      "[array([[ 0,  0, -1,  1,  1, -1, -1,  1,  1]]), array([[ 0,  0,  0, -1,  0,  0,  0,  0,  0]])]\n",
      "[array([[ 0,  0,  1, -1, -1,  1,  1, -1, -1]]), array([[ 0,  0,  0, -1,  0,  0,  0,  0,  0]])]\n",
      "[array([[ 0,  0, -1,  1,  1, -1, -1,  1,  1]]), array([[ 0,  0,  0,  0,  0,  0, -1,  0,  0]])]\n",
      "[array([[ 0,  0,  1, -1, -1,  1,  1, -1, -1]]), array([[ 0,  0,  0,  0,  0,  0, -1,  0,  0]])]\n",
      "[array([[ 0,  0, -1,  1,  1, -1, -1,  1,  1]]), array([[ 0,  0,  0,  0,  0,  0,  0, -1,  0]])]\n",
      "[array([[ 0,  0,  1, -1, -1,  1,  1, -1, -1]]), array([[ 0,  0,  0,  0,  0,  0,  0, -1,  0]])]\n",
      "[array([[ 0,  0, -1,  1,  1, -1, -1,  1,  1]]), array([[ 0,  0,  0, -1,  0,  0,  0,  0,  0]])]\n",
      "[array([[ 0,  0,  1, -1, -1,  1,  1, -1, -1]]), array([[ 0,  0,  0, -1,  0,  0,  0,  0,  0]])]\n",
      "[array([[ 0,  0, -1,  1,  1, -1, -1,  1,  1]]), array([[ 0,  0,  0,  0,  0,  0, -1,  0,  0]])]\n",
      "[array([[ 0,  0,  1, -1, -1,  1,  1, -1, -1]]), array([[ 0,  0,  0,  0,  0,  0, -1,  0,  0]])]\n",
      "[array([[-1,  0, -1,  1,  1, -1, -1,  1,  1]]), array([[ 0,  0,  0,  0,  0, -1,  0,  0,  0]])]\n",
      "[array([[ 1,  0,  1, -1, -1,  1,  1, -1, -1]]), array([[ 0,  0,  0,  0,  0, -1,  0,  0,  0]])]\n",
      "[array([[-1,  0, -1,  1,  1, -1, -1,  1,  1]]), array([[ 0,  0,  0,  0,  0,  0, -1,  0,  0]])]\n",
      "[array([[ 1,  0,  1, -1, -1,  1,  1, -1, -1]]), array([[ 0,  0,  0,  0,  0,  0, -1,  0,  0]])]\n",
      "[array([[-1,  0, -1,  1,  1, -1, -1,  1,  1]]), array([[-1,  0,  0,  0,  0,  0,  0,  0,  0]])]\n",
      "[array([[ 1,  0,  1, -1, -1,  1,  1, -1, -1]]), array([[-1,  0,  0,  0,  0,  0,  0,  0,  0]])]\n",
      "[array([[0, 0, 0, 0, 0, 0, 0, 0, 0]]), array([[0, 0, 0, 0, 1, 0, 0, 0, 0]])]\n",
      "[array([[ 0,  0, -1,  0,  1,  0,  0,  0,  0]]), array([[0, 0, 0, 0, 0, 0, 0, 0, 1]])]\n",
      "[array([[ 0,  0, -1,  0,  1,  0, -1,  0,  1]]), array([[0, 0, 0, 1, 0, 0, 0, 0, 0]])]\n",
      "[array([[ 0,  0, -1,  1,  1, -1, -1,  0,  1]]), array([[0, 0, 0, 0, 0, 0, 0, 1, 0]])]\n",
      "[array([[-1,  0, -1,  1,  1, -1, -1,  1,  1]]), array([[0, 1, 0, 0, 0, 0, 0, 0, 0]])]\n",
      "[array([[0, 0, 0, 0, 1, 0, 0, 0, 0]]), array([[-0. , -0. , -0.1, -0. , -0. , -0. , -0. , -0. , -0. ]])]\n",
      "[array([[ 0,  0, -1,  0,  1,  0,  0,  0,  1]]), array([[-0. , -0. , -0. , -0. , -0. , -0. , -0.1, -0. , -0. ]])]\n",
      "[array([[ 0,  0, -1,  1,  1,  0, -1,  0,  1]]), array([[-0. , -0. , -0. , -0. , -0. , -0.1, -0. , -0. , -0. ]])]\n",
      "[array([[ 0,  0, -1,  1,  1, -1, -1,  1,  1]]), array([[-0.1, -0. , -0. , -0. , -0. , -0. , -0. , -0. , -0. ]])]\n",
      "[array([[ 0,  1,  0,  0,  0,  0,  1,  0, -1]]), array([[ 0,  0,  0,  0,  0,  0, -1,  0,  0]])]\n",
      "[array([[ 0, -1,  0,  0,  0,  0, -1,  0,  1]]), array([[ 0,  0,  0,  0,  0,  0, -1,  0,  0]])]\n",
      "[array([[ 0,  1,  0,  0, -1,  0,  1,  0, -1]]), array([[ 0, -1,  0,  0,  0,  0,  0,  0,  0]])]\n",
      "[array([[ 0, -1,  0,  0,  1,  0, -1,  0,  1]]), array([[ 0, -1,  0,  0,  0,  0,  0,  0,  0]])]\n"
     ]
    }
   ],
   "source": [
    "memories = read_data()\n",
    "print(\"\\n\".join(map(str,memories[:50])))"
   ]
  },
  {
   "cell_type": "code",
   "execution_count": 138,
   "metadata": {
    "collapsed": true
   },
   "outputs": [],
   "source": [
    "def add_layer(inputs, in_size, out_size, activation_function = None):\n",
    "    Weights = tf.Variable(tf.random_normal([in_size, out_size]))\n",
    "    biases = tf.Variable(tf.zeros([1, out_size]) + 0.1)\n",
    "    Wx_plus_b = tf.matmul(inputs, Weights) + biases\n",
    "    if activation_function is None:\n",
    "        outputs = Wx_plus_b\n",
    "    else:\n",
    "        outputs = activation_function(Wx_plus_b)\n",
    "    return outputs"
   ]
  },
  {
   "cell_type": "code",
   "execution_count": 146,
   "metadata": {
    "collapsed": true
   },
   "outputs": [],
   "source": [
    "def validTest():\n",
    "    for _ in range(10):\n",
    "        player1_num = randint(1,4)\n",
    "        player2_num = player1_num + choice([0, -1])\n",
    "\n",
    "        grid = [0 for _ in range(9)]\n",
    "\n",
    "        for _ in range(player1_num):\n",
    "            choices = [i for i in range(9) if grid[i] == 0]\n",
    "\n",
    "            grid[choice(choices)] = 1\n",
    "\n",
    "        for _ in range(player2_num):\n",
    "            choices = [i for i in range(9) if grid[i] == 0]\n",
    "\n",
    "            grid[choice(choices)] = -1\n",
    "\n",
    "        grid = array(grid)\n",
    "        pre = sess.run(prediction, feed_dict={xs:[grid]})\n",
    "        print(grid)\n",
    "        print(argmax(pre[0]))"
   ]
  },
  {
   "cell_type": "code",
   "execution_count": 147,
   "metadata": {
    "collapsed": true
   },
   "outputs": [],
   "source": [
    "x_data = [m[0][0] for m in memories]\n",
    "y_data = [m[1][0] for m in memories]"
   ]
  },
  {
   "cell_type": "code",
   "execution_count": 148,
   "metadata": {
    "collapsed": true
   },
   "outputs": [],
   "source": [
    "xs = tf.placeholder(tf.float32, [None, 9])\n",
    "ys = tf.placeholder(tf.float32, [None, 9])"
   ]
  },
  {
   "cell_type": "code",
   "execution_count": 149,
   "metadata": {},
   "outputs": [],
   "source": [
    "l1 = add_layer(xs, 9, 18, tf.nn.relu)\n",
    "l2 = add_layer(l1, 18, 36, tf.nn.relu)\n",
    "prediction = add_layer(l2, 36, 9)\n",
    "\n",
    "loss = tf.reduce_mean(tf.reduce_sum(tf.square(ys - prediction), reduction_indices=[1]))\n",
    "train_step = tf.train.GradientDescentOptimizer(0.1).minimize(loss)\n",
    "\n"
   ]
  },
  {
   "cell_type": "code",
   "execution_count": 150,
   "metadata": {},
   "outputs": [],
   "source": [
    "init = tf.global_variables_initializer()\n",
    "sess = tf.Session()\n",
    "sess.run(init)"
   ]
  },
  {
   "cell_type": "code",
   "execution_count": 151,
   "metadata": {},
   "outputs": [
    {
     "name": "stdout",
     "output_type": "stream",
     "text": [
      "3.4642e+10\n",
      "nan\n",
      "nan\n",
      "nan\n",
      "nan\n",
      "nan\n",
      "nan\n",
      "nan\n",
      "nan\n",
      "nan\n",
      "nan\n",
      "nan\n",
      "nan\n",
      "nan\n",
      "nan\n",
      "nan\n",
      "nan\n",
      "nan\n",
      "nan\n",
      "nan\n"
     ]
    }
   ],
   "source": [
    "for i in range(1000):\n",
    "    sess.run(train_step, feed_dict={xs: x_data, ys: y_data})\n",
    "    if i % 50 == 0:\n",
    "        print(sess.run(loss, feed_dict={xs: x_data, ys: y_data}))"
   ]
  },
  {
   "cell_type": "code",
   "execution_count": 152,
   "metadata": {},
   "outputs": [
    {
     "name": "stdout",
     "output_type": "stream",
     "text": [
      "[ 0  1 -1  0  1 -1 -1  1  1]\n",
      "0\n",
      "[-1 -1 -1  1  1 -1  1  0  1]\n",
      "0\n",
      "[0 0 0 1 0 0 0 0 0]\n",
      "0\n",
      "[0 0 1 0 0 0 0 0 0]\n",
      "0\n",
      "[ 0  1  0  0 -1  0  1  0  0]\n",
      "0\n",
      "[ 0  0  1  0 -1  1  0 -1  0]\n",
      "0\n",
      "[ 1  0  0 -1  1  0 -1  1 -1]\n",
      "0\n",
      "[ 1  0  0  0  0  1  0 -1  0]\n",
      "0\n",
      "[ 0 -1  0  0  0  1  1  0  0]\n",
      "0\n",
      "[1 0 0 0 0 0 0 0 0]\n",
      "0\n"
     ]
    }
   ],
   "source": [
    "validTest()"
   ]
  },
  {
   "cell_type": "code",
   "execution_count": null,
   "metadata": {
    "collapsed": true
   },
   "outputs": [],
   "source": []
  }
 ],
 "metadata": {
  "kernelspec": {
   "display_name": "Python 3",
   "language": "python",
   "name": "python3"
  },
  "language_info": {
   "codemirror_mode": {
    "name": "ipython",
    "version": 3
   },
   "file_extension": ".py",
   "mimetype": "text/x-python",
   "name": "python",
   "nbconvert_exporter": "python",
   "pygments_lexer": "ipython3",
   "version": "3.6.0"
  }
 },
 "nbformat": 4,
 "nbformat_minor": 2
}
